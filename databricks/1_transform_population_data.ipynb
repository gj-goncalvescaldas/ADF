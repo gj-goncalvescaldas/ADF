{
 "cells": [
  {
   "cell_type": "code",
   "execution_count": 0,
   "metadata": {
    "application/vnd.databricks.v1+cell": {
     "cellMetadata": {
      "byteLimit": 2048000,
      "rowLimit": 10000
     },
     "inputWidgets": {},
     "nuid": "f40f4108-08e9-4c0b-8f5e-4f41746ff8d5",
     "showTitle": false,
     "tableResultSettingsMap": {},
     "title": ""
    }
   },
   "outputs": [],
   "source": [
    "df_population = spark.read.csv(\"/mnt/bluetabstorage/raw/population/population_by_age_tsv\", header=True, sep=\"\\t\") "
   ]
  },
  {
   "cell_type": "code",
   "execution_count": 0,
   "metadata": {
    "application/vnd.databricks.v1+cell": {
     "cellMetadata": {
      "byteLimit": 2048000,
      "rowLimit": 10000
     },
     "inputWidgets": {},
     "nuid": "acc46719-61ea-4139-ae24-e88c7ddb325b",
     "showTitle": false,
     "tableResultSettingsMap": {},
     "title": ""
    }
   },
   "outputs": [
    {
     "output_type": "display_data",
     "data": {
      "text/html": [
       "<style scoped>\n",
       "  .table-result-container {\n",
       "    max-height: 300px;\n",
       "    overflow: auto;\n",
       "  }\n",
       "  table, th, td {\n",
       "    border: 1px solid black;\n",
       "    border-collapse: collapse;\n",
       "  }\n",
       "  th, td {\n",
       "    padding: 5px;\n",
       "  }\n",
       "  th {\n",
       "    text-align: left;\n",
       "  }\n",
       "</style><div class='table-result-container'><table class='table-result'><thead style='background-color: white'><tr><th>indic_de,geo\\time</th><th>2008 </th><th>2009 </th><th>2010 </th><th>2011 </th><th>2012 </th><th>2013 </th><th>2014 </th><th>2015 </th><th>2016 </th><th>2017 </th><th>2018 </th><th>2019 </th></tr></thead><tbody><tr><td>PC_Y0_14,AD</td><td>14.6 </td><td>14.5 </td><td>14.5 </td><td>15.5 </td><td>15.5 </td><td>15.5 </td><td>: </td><td>: </td><td>: </td><td>: </td><td>: </td><td>13.9 </td></tr><tr><td>PC_Y0_14,AL</td><td>24.1 </td><td>23.3 </td><td>22.5 </td><td>21.6 </td><td>20.7 </td><td>20.1 </td><td>19.6 </td><td>19.0 </td><td>18.5 </td><td>18.2 </td><td>17.7 </td><td>17.2 </td></tr><tr><td>PC_Y0_14,AM</td><td>19.0 </td><td>18.6 </td><td>18.3 </td><td>: </td><td>: </td><td>: </td><td>: </td><td>19.4 </td><td>19.6 </td><td>20.0 </td><td>20.2 </td><td>20.2 </td></tr><tr><td>PC_Y0_14,AT</td><td>15.4 </td><td>15.1 </td><td>14.9 </td><td>14.7 </td><td>14.6 </td><td>14.4 </td><td>14.3 </td><td>14.3 </td><td>14.3 </td><td>14.4 </td><td>14.4 </td><td>14.4 </td></tr><tr><td>PC_Y0_14,AZ</td><td>23.2 </td><td>22.6 </td><td>22.6 </td><td>22.3 </td><td>22.2 </td><td>22.3 </td><td>22.4 </td><td>22.4 </td><td>22.5 </td><td>22.6 </td><td>22.6 </td><td>22.4 </td></tr><tr><td>PC_Y0_14,BE</td><td>16.9 </td><td>16.9 </td><td>16.9 </td><td>17.0 b</td><td>17.0 </td><td>17.0 </td><td>17.0 </td><td>17.0 </td><td>17.0 </td><td>17.0 </td><td>17.0 </td><td>16.9 </td></tr><tr><td>PC_Y0_14,BG</td><td>13.1 </td><td>13.1 </td><td>13.2 </td><td>13.2 </td><td>13.4 </td><td>13.6 </td><td>13.7 </td><td>13.9 </td><td>14.0 </td><td>14.1 </td><td>14.2 </td><td>14.4 </td></tr><tr><td>PC_Y0_14,BY</td><td>14.7 </td><td>14.6 </td><td>: </td><td>14.9 </td><td>15.1 </td><td>15.4 </td><td>15.7 </td><td>16.0 </td><td>16.3 </td><td>16.6 </td><td>16.8 </td><td>16.9 </td></tr><tr><td>PC_Y0_14,CH</td><td>15.5 </td><td>15.3 </td><td>15.2 </td><td>15.1 b</td><td>15.0 </td><td>14.9 </td><td>14.9 </td><td>14.9 </td><td>14.9 </td><td>14.9 </td><td>15.0 </td><td>15.0 </td></tr><tr><td>PC_Y0_14,CY</td><td>18.2 </td><td>17.7 </td><td>17.2 </td><td>16.8 </td><td>16.5 </td><td>16.4 </td><td>16.3 </td><td>16.4 </td><td>16.4 </td><td>16.3 </td><td>16.2 </td><td>16.1 </td></tr></tbody></table></div>"
      ]
     },
     "metadata": {
      "application/vnd.databricks.v1+output": {
       "addedWidgets": {},
       "aggData": [],
       "aggError": "",
       "aggOverflow": false,
       "aggSchema": [],
       "aggSeriesLimitReached": false,
       "aggType": "",
       "arguments": {},
       "columnCustomDisplayInfos": {},
       "data": [
        [
         "PC_Y0_14,AD",
         "14.6 ",
         "14.5 ",
         "14.5 ",
         "15.5 ",
         "15.5 ",
         "15.5 ",
         ": ",
         ": ",
         ": ",
         ": ",
         ": ",
         "13.9 "
        ],
        [
         "PC_Y0_14,AL",
         "24.1 ",
         "23.3 ",
         "22.5 ",
         "21.6 ",
         "20.7 ",
         "20.1 ",
         "19.6 ",
         "19.0 ",
         "18.5 ",
         "18.2 ",
         "17.7 ",
         "17.2 "
        ],
        [
         "PC_Y0_14,AM",
         "19.0 ",
         "18.6 ",
         "18.3 ",
         ": ",
         ": ",
         ": ",
         ": ",
         "19.4 ",
         "19.6 ",
         "20.0 ",
         "20.2 ",
         "20.2 "
        ],
        [
         "PC_Y0_14,AT",
         "15.4 ",
         "15.1 ",
         "14.9 ",
         "14.7 ",
         "14.6 ",
         "14.4 ",
         "14.3 ",
         "14.3 ",
         "14.3 ",
         "14.4 ",
         "14.4 ",
         "14.4 "
        ],
        [
         "PC_Y0_14,AZ",
         "23.2 ",
         "22.6 ",
         "22.6 ",
         "22.3 ",
         "22.2 ",
         "22.3 ",
         "22.4 ",
         "22.4 ",
         "22.5 ",
         "22.6 ",
         "22.6 ",
         "22.4 "
        ],
        [
         "PC_Y0_14,BE",
         "16.9 ",
         "16.9 ",
         "16.9 ",
         "17.0 b",
         "17.0 ",
         "17.0 ",
         "17.0 ",
         "17.0 ",
         "17.0 ",
         "17.0 ",
         "17.0 ",
         "16.9 "
        ],
        [
         "PC_Y0_14,BG",
         "13.1 ",
         "13.1 ",
         "13.2 ",
         "13.2 ",
         "13.4 ",
         "13.6 ",
         "13.7 ",
         "13.9 ",
         "14.0 ",
         "14.1 ",
         "14.2 ",
         "14.4 "
        ],
        [
         "PC_Y0_14,BY",
         "14.7 ",
         "14.6 ",
         ": ",
         "14.9 ",
         "15.1 ",
         "15.4 ",
         "15.7 ",
         "16.0 ",
         "16.3 ",
         "16.6 ",
         "16.8 ",
         "16.9 "
        ],
        [
         "PC_Y0_14,CH",
         "15.5 ",
         "15.3 ",
         "15.2 ",
         "15.1 b",
         "15.0 ",
         "14.9 ",
         "14.9 ",
         "14.9 ",
         "14.9 ",
         "14.9 ",
         "15.0 ",
         "15.0 "
        ],
        [
         "PC_Y0_14,CY",
         "18.2 ",
         "17.7 ",
         "17.2 ",
         "16.8 ",
         "16.5 ",
         "16.4 ",
         "16.3 ",
         "16.4 ",
         "16.4 ",
         "16.3 ",
         "16.2 ",
         "16.1 "
        ]
       ],
       "datasetInfos": [],
       "dbfsResultPath": null,
       "isJsonSchema": true,
       "metadata": {},
       "overflow": false,
       "plotOptions": {
        "customPlotOptions": {},
        "displayType": "table",
        "pivotAggregation": null,
        "pivotColumns": null,
        "xColumns": null,
        "yColumns": null
       },
       "removedWidgets": [],
       "schema": [
        {
         "metadata": "{}",
         "name": "indic_de,geo\\time",
         "type": "\"string\""
        },
        {
         "metadata": "{}",
         "name": "2008 ",
         "type": "\"string\""
        },
        {
         "metadata": "{}",
         "name": "2009 ",
         "type": "\"string\""
        },
        {
         "metadata": "{}",
         "name": "2010 ",
         "type": "\"string\""
        },
        {
         "metadata": "{}",
         "name": "2011 ",
         "type": "\"string\""
        },
        {
         "metadata": "{}",
         "name": "2012 ",
         "type": "\"string\""
        },
        {
         "metadata": "{}",
         "name": "2013 ",
         "type": "\"string\""
        },
        {
         "metadata": "{}",
         "name": "2014 ",
         "type": "\"string\""
        },
        {
         "metadata": "{}",
         "name": "2015 ",
         "type": "\"string\""
        },
        {
         "metadata": "{}",
         "name": "2016 ",
         "type": "\"string\""
        },
        {
         "metadata": "{}",
         "name": "2017 ",
         "type": "\"string\""
        },
        {
         "metadata": "{}",
         "name": "2018 ",
         "type": "\"string\""
        },
        {
         "metadata": "{}",
         "name": "2019 ",
         "type": "\"string\""
        }
       ],
       "type": "table"
      }
     },
     "output_type": "display_data"
    }
   ],
   "source": [
    "display(df_population.limit(10))"
   ]
  },
  {
   "cell_type": "code",
   "execution_count": 0,
   "metadata": {
    "application/vnd.databricks.v1+cell": {
     "cellMetadata": {
      "byteLimit": 2048000,
      "rowLimit": 10000
     },
     "inputWidgets": {},
     "nuid": "b3788c89-2a8d-4e12-b443-6c6799618d49",
     "showTitle": false,
     "tableResultSettingsMap": {},
     "title": ""
    }
   },
   "outputs": [],
   "source": [
    "from pyspark.sql.functions import *"
   ]
  },
  {
   "cell_type": "code",
   "execution_count": 0,
   "metadata": {
    "application/vnd.databricks.v1+cell": {
     "cellMetadata": {
      "byteLimit": 2048000,
      "rowLimit": 10000
     },
     "inputWidgets": {},
     "nuid": "006bd80b-3d2e-4d34-8ae8-2af0ae933195",
     "showTitle": false,
     "tableResultSettingsMap": {},
     "title": ""
    }
   },
   "outputs": [
    {
     "output_type": "stream",
     "name": "stdout",
     "output_type": "stream",
     "text": [
      "['indic_de,geo\\\\time', '2008 ', '2009 ', '2010 ', '2011 ', '2012 ', '2013 ', '2014 ', '2015 ', '2016 ', '2017 ', '2018 ', '2019 ']\n"
     ]
    }
   ],
   "source": [
    "print(df_population.columns)"
   ]
  },
  {
   "cell_type": "code",
   "execution_count": 0,
   "metadata": {
    "application/vnd.databricks.v1+cell": {
     "cellMetadata": {
      "byteLimit": 2048000,
      "rowLimit": 10000
     },
     "inputWidgets": {},
     "nuid": "693ffbf4-8a82-40a8-bc10-12ae0cff3427",
     "showTitle": false,
     "tableResultSettingsMap": {},
     "title": ""
    }
   },
   "outputs": [],
   "source": [
    "df_population = df_population.drop('2008 ', '2009 ', '2010 ', '2011 ', '2012 ', '2013 ', '2014 ', '2015 ', '2016 ', '2017 ', '2018 ') \\\n",
    "    .withColumn(\"age_group\", regexp_replace(split(df_population[\"indic_de,geo\\\\time\"], \",\")[0], \"PC_Y\", \"\")) \\\n",
    "    .withColumn(\"country_code\", split(df_population[\"indic_de,geo\\\\time\"], \",\")[1]) \\\n",
    "    .drop('indic_de,geo\\\\time')\n",
    "\n",
    "df = df_population.select(\n",
    "    col(\"country_code\"),\n",
    "    col(\"age_group\"),\n",
    "    col(\"2019 \").alias(\"percentage_2019\")\n",
    ")\n"
   ]
  },
  {
   "cell_type": "code",
   "execution_count": 0,
   "metadata": {
    "application/vnd.databricks.v1+cell": {
     "cellMetadata": {
      "byteLimit": 2048000,
      "rowLimit": 10000
     },
     "inputWidgets": {},
     "nuid": "41bef754-e9bc-440a-bf58-dfa6d1aa35e4",
     "showTitle": false,
     "tableResultSettingsMap": {},
     "title": ""
    }
   },
   "outputs": [
    {
     "output_type": "display_data",
     "data": {
      "text/html": [
       "<style scoped>\n",
       "  .table-result-container {\n",
       "    max-height: 300px;\n",
       "    overflow: auto;\n",
       "  }\n",
       "  table, th, td {\n",
       "    border: 1px solid black;\n",
       "    border-collapse: collapse;\n",
       "  }\n",
       "  th, td {\n",
       "    padding: 5px;\n",
       "  }\n",
       "  th {\n",
       "    text-align: left;\n",
       "  }\n",
       "</style><div class='table-result-container'><table class='table-result'><thead style='background-color: white'><tr><th>country_code</th><th>age_group</th><th>percentage_2019</th></tr></thead><tbody><tr><td>XK</td><td>0_14</td><td>24.4 </td></tr><tr><td>XK</td><td>15_24</td><td>17.8 </td></tr><tr><td>XK</td><td>25_49</td><td>35.2 </td></tr><tr><td>XK</td><td>50_64</td><td>14.1 </td></tr><tr><td>XK</td><td>65_79</td><td>6.8 </td></tr><tr><td>XK</td><td>80_MAX</td><td>1.8 </td></tr><tr><td>UK</td><td>80_MAX</td><td>5.0 </td></tr><tr><td>UK</td><td>65_79</td><td>13.4 </td></tr><tr><td>UK</td><td>50_64</td><td>19.1 </td></tr><tr><td>UK</td><td>15_24</td><td>11.8 </td></tr></tbody></table></div>"
      ]
     },
     "metadata": {
      "application/vnd.databricks.v1+output": {
       "addedWidgets": {},
       "aggData": [],
       "aggError": "",
       "aggOverflow": false,
       "aggSchema": [],
       "aggSeriesLimitReached": false,
       "aggType": "",
       "arguments": {},
       "columnCustomDisplayInfos": {},
       "data": [
        [
         "XK",
         "0_14",
         "24.4 "
        ],
        [
         "XK",
         "15_24",
         "17.8 "
        ],
        [
         "XK",
         "25_49",
         "35.2 "
        ],
        [
         "XK",
         "50_64",
         "14.1 "
        ],
        [
         "XK",
         "65_79",
         "6.8 "
        ],
        [
         "XK",
         "80_MAX",
         "1.8 "
        ],
        [
         "UK",
         "80_MAX",
         "5.0 "
        ],
        [
         "UK",
         "65_79",
         "13.4 "
        ],
        [
         "UK",
         "50_64",
         "19.1 "
        ],
        [
         "UK",
         "15_24",
         "11.8 "
        ]
       ],
       "datasetInfos": [],
       "dbfsResultPath": null,
       "isJsonSchema": true,
       "metadata": {},
       "overflow": false,
       "plotOptions": {
        "customPlotOptions": {},
        "displayType": "table",
        "pivotAggregation": null,
        "pivotColumns": null,
        "xColumns": null,
        "yColumns": null
       },
       "removedWidgets": [],
       "schema": [
        {
         "metadata": "{}",
         "name": "country_code",
         "type": "\"string\""
        },
        {
         "metadata": "{}",
         "name": "age_group",
         "type": "\"string\""
        },
        {
         "metadata": "{}",
         "name": "percentage_2019",
         "type": "\"string\""
        }
       ],
       "type": "table"
      }
     },
     "output_type": "display_data"
    }
   ],
   "source": [
    "display(df.orderBy(desc(\"country_code\")).limit(10))"
   ]
  },
  {
   "cell_type": "code",
   "execution_count": 0,
   "metadata": {
    "application/vnd.databricks.v1+cell": {
     "cellMetadata": {
      "byteLimit": 2048000,
      "rowLimit": 10000
     },
     "inputWidgets": {},
     "nuid": "27a55e74-3843-45ab-8f10-b091a0572261",
     "showTitle": false,
     "tableResultSettingsMap": {},
     "title": ""
    }
   },
   "outputs": [
    {
     "output_type": "display_data",
     "data": {
      "text/html": [
       "<style scoped>\n",
       "  .table-result-container {\n",
       "    max-height: 300px;\n",
       "    overflow: auto;\n",
       "  }\n",
       "  table, th, td {\n",
       "    border: 1px solid black;\n",
       "    border-collapse: collapse;\n",
       "  }\n",
       "  th, td {\n",
       "    padding: 5px;\n",
       "  }\n",
       "  th {\n",
       "    text-align: left;\n",
       "  }\n",
       "</style><div class='table-result-container'><table class='table-result'><thead style='background-color: white'><tr><th>percentage_2019</th></tr></thead><tbody><tr><td>: </td></tr><tr><td>18.0 p</td></tr><tr><td>16.1 </td></tr><tr><td>15.5 p</td></tr><tr><td>16.5 </td></tr><tr><td>16.4 </td></tr><tr><td>17.2 </td></tr><tr><td>13.9 </td></tr><tr><td>14.3 </td></tr><tr><td>14.8 </td></tr><tr><td>20.2 </td></tr><tr><td>22.4 </td></tr><tr><td>15.9 </td></tr><tr><td>13.6 </td></tr><tr><td>15.0 </td></tr><tr><td>16.0 </td></tr><tr><td>15.0 p</td></tr><tr><td>16.9 </td></tr><tr><td>14.4 </td></tr><tr><td>15.2 p</td></tr></tbody></table></div>"
      ]
     },
     "metadata": {
      "application/vnd.databricks.v1+output": {
       "addedWidgets": {},
       "aggData": [],
       "aggError": "",
       "aggOverflow": false,
       "aggSchema": [],
       "aggSeriesLimitReached": false,
       "aggType": "",
       "arguments": {},
       "columnCustomDisplayInfos": {},
       "data": [
        [
         ": "
        ],
        [
         "18.0 p"
        ],
        [
         "16.1 "
        ],
        [
         "15.5 p"
        ],
        [
         "16.5 "
        ],
        [
         "16.4 "
        ],
        [
         "17.2 "
        ],
        [
         "13.9 "
        ],
        [
         "14.3 "
        ],
        [
         "14.8 "
        ],
        [
         "20.2 "
        ],
        [
         "22.4 "
        ],
        [
         "15.9 "
        ],
        [
         "13.6 "
        ],
        [
         "15.0 "
        ],
        [
         "16.0 "
        ],
        [
         "15.0 p"
        ],
        [
         "16.9 "
        ],
        [
         "14.4 "
        ],
        [
         "15.2 p"
        ]
       ],
       "datasetInfos": [],
       "dbfsResultPath": null,
       "isJsonSchema": true,
       "metadata": {},
       "overflow": false,
       "plotOptions": {
        "customPlotOptions": {},
        "displayType": "table",
        "pivotAggregation": null,
        "pivotColumns": null,
        "xColumns": null,
        "yColumns": null
       },
       "removedWidgets": [],
       "schema": [
        {
         "metadata": "{}",
         "name": "percentage_2019",
         "type": "\"string\""
        }
       ],
       "type": "table"
      }
     },
     "output_type": "display_data"
    }
   ],
   "source": [
    "display(df.select(\"percentage_2019\").distinct().limit(20))"
   ]
  },
  {
   "cell_type": "code",
   "execution_count": 0,
   "metadata": {
    "application/vnd.databricks.v1+cell": {
     "cellMetadata": {
      "byteLimit": 2048000,
      "rowLimit": 10000
     },
     "inputWidgets": {},
     "nuid": "c7990c97-8ec8-4a17-902f-17de224d77e2",
     "showTitle": false,
     "tableResultSettingsMap": {},
     "title": ""
    }
   },
   "outputs": [],
   "source": [
    "df = df \\\n",
    ".select(\n",
    "    col(\"country_code\"),\n",
    "    col(\"age_group\"),\n",
    "    col(\"percentage_2019\") \n",
    ") \\\n",
    ".withColumn(\n",
    "    \"percentage_2019\", \n",
    "     regexp_replace(col(\"percentage_2019\"), '[A-Za-z]', '')\n",
    ") \\\n",
    ".withColumn(\n",
    "    \"percentage_2019\",\n",
    "    col(\"percentage_2019\").cast(\"decimal(4,2)\")\n",
    ")"
   ]
  },
  {
   "cell_type": "code",
   "execution_count": 0,
   "metadata": {
    "application/vnd.databricks.v1+cell": {
     "cellMetadata": {
      "byteLimit": 2048000,
      "rowLimit": 10000
     },
     "inputWidgets": {},
     "nuid": "62a2564f-0077-4e9c-b263-1b0eb37a46e2",
     "showTitle": false,
     "tableResultSettingsMap": {},
     "title": ""
    }
   },
   "outputs": [
    {
     "output_type": "display_data",
     "data": {
      "text/html": [
       "<style scoped>\n",
       "  .table-result-container {\n",
       "    max-height: 300px;\n",
       "    overflow: auto;\n",
       "  }\n",
       "  table, th, td {\n",
       "    border: 1px solid black;\n",
       "    border-collapse: collapse;\n",
       "  }\n",
       "  th, td {\n",
       "    padding: 5px;\n",
       "  }\n",
       "  th {\n",
       "    text-align: left;\n",
       "  }\n",
       "</style><div class='table-result-container'><table class='table-result'><thead style='background-color: white'><tr><th>percentage_2019</th></tr></thead><tbody><tr><td>22.50</td></tr><tr><td>20.40</td></tr><tr><td>19.50</td></tr><tr><td>13.60</td></tr><tr><td>32.80</td></tr><tr><td>2.70</td></tr><tr><td>16.90</td></tr><tr><td>20.30</td></tr><tr><td>31.20</td></tr><tr><td>7.20</td></tr><tr><td>12.80</td></tr><tr><td>14.80</td></tr><tr><td>16.40</td></tr><tr><td>5.30</td></tr><tr><td>3.30</td></tr><tr><td>10.50</td></tr><tr><td>32.40</td></tr><tr><td>17.60</td></tr><tr><td>15.40</td></tr><tr><td>14.60</td></tr><tr><td>33.30</td></tr><tr><td>5.70</td></tr><tr><td>36.60</td></tr><tr><td>6.50</td></tr><tr><td>34.10</td></tr><tr><td>38.20</td></tr><tr><td>12.40</td></tr><tr><td>39.40</td></tr><tr><td>33.90</td></tr><tr><td>15.50</td></tr><tr><td>4.20</td></tr><tr><td>14.40</td></tr><tr><td>21.30</td></tr><tr><td>19.40</td></tr><tr><td>34.20</td></tr><tr><td>4.50</td></tr><tr><td>16.50</td></tr><tr><td>9.90</td></tr><tr><td>7.00</td></tr><tr><td>21.10</td></tr><tr><td>13.30</td></tr><tr><td>18.10</td></tr><tr><td>null</td></tr><tr><td>19.60</td></tr><tr><td>3.70</td></tr><tr><td>15.20</td></tr><tr><td>35.80</td></tr><tr><td>11.50</td></tr><tr><td>9.20</td></tr><tr><td>15.70</td></tr><tr><td>21.70</td></tr><tr><td>6.10</td></tr><tr><td>18.00</td></tr><tr><td>1.50</td></tr><tr><td>10.60</td></tr><tr><td>22.40</td></tr><tr><td>12.50</td></tr><tr><td>11.90</td></tr><tr><td>12.30</td></tr><tr><td>37.00</td></tr><tr><td>4.30</td></tr><tr><td>11.00</td></tr><tr><td>33.00</td></tr><tr><td>9.00</td></tr><tr><td>10.40</td></tr><tr><td>2.50</td></tr><tr><td>20.50</td></tr><tr><td>17.90</td></tr><tr><td>8.90</td></tr><tr><td>11.30</td></tr><tr><td>5.00</td></tr><tr><td>5.50</td></tr><tr><td>33.20</td></tr><tr><td>20.10</td></tr><tr><td>9.50</td></tr><tr><td>20.90</td></tr><tr><td>4.60</td></tr><tr><td>19.20</td></tr><tr><td>37.60</td></tr><tr><td>14.00</td></tr><tr><td>19.70</td></tr><tr><td>32.90</td></tr><tr><td>20.70</td></tr><tr><td>32.50</td></tr><tr><td>14.10</td></tr><tr><td>31.70</td></tr><tr><td>35.20</td></tr><tr><td>9.40</td></tr><tr><td>21.90</td></tr><tr><td>5.80</td></tr><tr><td>18.80</td></tr><tr><td>4.40</td></tr><tr><td>13.40</td></tr><tr><td>19.00</td></tr><tr><td>10.90</td></tr><tr><td>14.30</td></tr><tr><td>15.80</td></tr><tr><td>36.90</td></tr><tr><td>31.80</td></tr><tr><td>18.20</td></tr><tr><td>24.40</td></tr><tr><td>32.70</td></tr><tr><td>3.90</td></tr><tr><td>34.00</td></tr><tr><td>11.20</td></tr><tr><td>19.10</td></tr><tr><td>9.10</td></tr><tr><td>7.10</td></tr><tr><td>15.10</td></tr><tr><td>4.80</td></tr><tr><td>37.10</td></tr><tr><td>10.80</td></tr><tr><td>5.60</td></tr><tr><td>38.10</td></tr><tr><td>14.90</td></tr><tr><td>31.60</td></tr><tr><td>3.80</td></tr><tr><td>4.00</td></tr><tr><td>5.20</td></tr><tr><td>35.50</td></tr><tr><td>33.80</td></tr><tr><td>17.20</td></tr><tr><td>15.90</td></tr><tr><td>21.60</td></tr><tr><td>35.00</td></tr><tr><td>23.20</td></tr><tr><td>19.80</td></tr><tr><td>13.80</td></tr><tr><td>11.60</td></tr><tr><td>16.00</td></tr><tr><td>36.70</td></tr><tr><td>13.70</td></tr><tr><td>20.20</td></tr><tr><td>10.20</td></tr><tr><td>4.10</td></tr><tr><td>13.00</td></tr><tr><td>32.60</td></tr><tr><td>10.70</td></tr><tr><td>17.50</td></tr><tr><td>35.30</td></tr><tr><td>11.70</td></tr><tr><td>39.10</td></tr><tr><td>14.70</td></tr><tr><td>6.20</td></tr><tr><td>9.60</td></tr><tr><td>10.30</td></tr><tr><td>13.20</td></tr><tr><td>1.80</td></tr><tr><td>15.00</td></tr><tr><td>17.80</td></tr><tr><td>3.50</td></tr><tr><td>9.80</td></tr><tr><td>33.10</td></tr><tr><td>16.30</td></tr><tr><td>4.70</td></tr><tr><td>11.80</td></tr><tr><td>34.90</td></tr><tr><td>22.80</td></tr><tr><td>6.80</td></tr><tr><td>23.40</td></tr><tr><td>3.00</td></tr><tr><td>5.10</td></tr><tr><td>11.40</td></tr><tr><td>16.10</td></tr><tr><td>6.40</td></tr><tr><td>14.50</td></tr><tr><td>13.90</td></tr><tr><td>12.70</td></tr><tr><td>12.60</td></tr><tr><td>18.70</td></tr><tr><td>31.00</td></tr><tr><td>38.50</td></tr><tr><td>19.90</td></tr><tr><td>20.60</td></tr><tr><td>35.60</td></tr><tr><td>37.50</td></tr><tr><td>3.40</td></tr></tbody></table></div>"
      ]
     },
     "metadata": {
      "application/vnd.databricks.v1+output": {
       "addedWidgets": {},
       "aggData": [],
       "aggError": "",
       "aggOverflow": false,
       "aggSchema": [],
       "aggSeriesLimitReached": false,
       "aggType": "",
       "arguments": {},
       "columnCustomDisplayInfos": {},
       "data": [
        [
         "22.50"
        ],
        [
         "20.40"
        ],
        [
         "19.50"
        ],
        [
         "13.60"
        ],
        [
         "32.80"
        ],
        [
         "2.70"
        ],
        [
         "16.90"
        ],
        [
         "20.30"
        ],
        [
         "31.20"
        ],
        [
         "7.20"
        ],
        [
         "12.80"
        ],
        [
         "14.80"
        ],
        [
         "16.40"
        ],
        [
         "5.30"
        ],
        [
         "3.30"
        ],
        [
         "10.50"
        ],
        [
         "32.40"
        ],
        [
         "17.60"
        ],
        [
         "15.40"
        ],
        [
         "14.60"
        ],
        [
         "33.30"
        ],
        [
         "5.70"
        ],
        [
         "36.60"
        ],
        [
         "6.50"
        ],
        [
         "34.10"
        ],
        [
         "38.20"
        ],
        [
         "12.40"
        ],
        [
         "39.40"
        ],
        [
         "33.90"
        ],
        [
         "15.50"
        ],
        [
         "4.20"
        ],
        [
         "14.40"
        ],
        [
         "21.30"
        ],
        [
         "19.40"
        ],
        [
         "34.20"
        ],
        [
         "4.50"
        ],
        [
         "16.50"
        ],
        [
         "9.90"
        ],
        [
         "7.00"
        ],
        [
         "21.10"
        ],
        [
         "13.30"
        ],
        [
         "18.10"
        ],
        [
         null
        ],
        [
         "19.60"
        ],
        [
         "3.70"
        ],
        [
         "15.20"
        ],
        [
         "35.80"
        ],
        [
         "11.50"
        ],
        [
         "9.20"
        ],
        [
         "15.70"
        ],
        [
         "21.70"
        ],
        [
         "6.10"
        ],
        [
         "18.00"
        ],
        [
         "1.50"
        ],
        [
         "10.60"
        ],
        [
         "22.40"
        ],
        [
         "12.50"
        ],
        [
         "11.90"
        ],
        [
         "12.30"
        ],
        [
         "37.00"
        ],
        [
         "4.30"
        ],
        [
         "11.00"
        ],
        [
         "33.00"
        ],
        [
         "9.00"
        ],
        [
         "10.40"
        ],
        [
         "2.50"
        ],
        [
         "20.50"
        ],
        [
         "17.90"
        ],
        [
         "8.90"
        ],
        [
         "11.30"
        ],
        [
         "5.00"
        ],
        [
         "5.50"
        ],
        [
         "33.20"
        ],
        [
         "20.10"
        ],
        [
         "9.50"
        ],
        [
         "20.90"
        ],
        [
         "4.60"
        ],
        [
         "19.20"
        ],
        [
         "37.60"
        ],
        [
         "14.00"
        ],
        [
         "19.70"
        ],
        [
         "32.90"
        ],
        [
         "20.70"
        ],
        [
         "32.50"
        ],
        [
         "14.10"
        ],
        [
         "31.70"
        ],
        [
         "35.20"
        ],
        [
         "9.40"
        ],
        [
         "21.90"
        ],
        [
         "5.80"
        ],
        [
         "18.80"
        ],
        [
         "4.40"
        ],
        [
         "13.40"
        ],
        [
         "19.00"
        ],
        [
         "10.90"
        ],
        [
         "14.30"
        ],
        [
         "15.80"
        ],
        [
         "36.90"
        ],
        [
         "31.80"
        ],
        [
         "18.20"
        ],
        [
         "24.40"
        ],
        [
         "32.70"
        ],
        [
         "3.90"
        ],
        [
         "34.00"
        ],
        [
         "11.20"
        ],
        [
         "19.10"
        ],
        [
         "9.10"
        ],
        [
         "7.10"
        ],
        [
         "15.10"
        ],
        [
         "4.80"
        ],
        [
         "37.10"
        ],
        [
         "10.80"
        ],
        [
         "5.60"
        ],
        [
         "38.10"
        ],
        [
         "14.90"
        ],
        [
         "31.60"
        ],
        [
         "3.80"
        ],
        [
         "4.00"
        ],
        [
         "5.20"
        ],
        [
         "35.50"
        ],
        [
         "33.80"
        ],
        [
         "17.20"
        ],
        [
         "15.90"
        ],
        [
         "21.60"
        ],
        [
         "35.00"
        ],
        [
         "23.20"
        ],
        [
         "19.80"
        ],
        [
         "13.80"
        ],
        [
         "11.60"
        ],
        [
         "16.00"
        ],
        [
         "36.70"
        ],
        [
         "13.70"
        ],
        [
         "20.20"
        ],
        [
         "10.20"
        ],
        [
         "4.10"
        ],
        [
         "13.00"
        ],
        [
         "32.60"
        ],
        [
         "10.70"
        ],
        [
         "17.50"
        ],
        [
         "35.30"
        ],
        [
         "11.70"
        ],
        [
         "39.10"
        ],
        [
         "14.70"
        ],
        [
         "6.20"
        ],
        [
         "9.60"
        ],
        [
         "10.30"
        ],
        [
         "13.20"
        ],
        [
         "1.80"
        ],
        [
         "15.00"
        ],
        [
         "17.80"
        ],
        [
         "3.50"
        ],
        [
         "9.80"
        ],
        [
         "33.10"
        ],
        [
         "16.30"
        ],
        [
         "4.70"
        ],
        [
         "11.80"
        ],
        [
         "34.90"
        ],
        [
         "22.80"
        ],
        [
         "6.80"
        ],
        [
         "23.40"
        ],
        [
         "3.00"
        ],
        [
         "5.10"
        ],
        [
         "11.40"
        ],
        [
         "16.10"
        ],
        [
         "6.40"
        ],
        [
         "14.50"
        ],
        [
         "13.90"
        ],
        [
         "12.70"
        ],
        [
         "12.60"
        ],
        [
         "18.70"
        ],
        [
         "31.00"
        ],
        [
         "38.50"
        ],
        [
         "19.90"
        ],
        [
         "20.60"
        ],
        [
         "35.60"
        ],
        [
         "37.50"
        ],
        [
         "3.40"
        ]
       ],
       "datasetInfos": [],
       "dbfsResultPath": null,
       "isJsonSchema": true,
       "metadata": {},
       "overflow": false,
       "plotOptions": {
        "customPlotOptions": {},
        "displayType": "table",
        "pivotAggregation": null,
        "pivotColumns": null,
        "xColumns": null,
        "yColumns": null
       },
       "removedWidgets": [],
       "schema": [
        {
         "metadata": "{}",
         "name": "percentage_2019",
         "type": "\"decimal(4,2)\""
        }
       ],
       "type": "table"
      }
     },
     "output_type": "display_data"
    }
   ],
   "source": [
    "display(df.select(\"percentage_2019\").distinct())"
   ]
  },
  {
   "cell_type": "code",
   "execution_count": 0,
   "metadata": {
    "application/vnd.databricks.v1+cell": {
     "cellMetadata": {
      "byteLimit": 2048000,
      "rowLimit": 10000
     },
     "inputWidgets": {},
     "nuid": "b9247b31-7730-4802-9534-e32c492a5370",
     "showTitle": false,
     "tableResultSettingsMap": {},
     "title": ""
    }
   },
   "outputs": [
    {
     "output_type": "stream",
     "name": "stdout",
     "output_type": "stream",
     "text": [
      "root\n |-- country_code: string (nullable = true)\n |-- age_group: string (nullable = true)\n |-- percentage_2019: decimal(4,2) (nullable = true)\n\n"
     ]
    }
   ],
   "source": [
    "df.printSchema()"
   ]
  },
  {
   "cell_type": "code",
   "execution_count": 0,
   "metadata": {
    "application/vnd.databricks.v1+cell": {
     "cellMetadata": {
      "byteLimit": 2048000,
      "rowLimit": 10000
     },
     "inputWidgets": {},
     "nuid": "1d3f4200-f463-4890-af58-f60b22d128c3",
     "showTitle": false,
     "tableResultSettingsMap": {},
     "title": ""
    }
   },
   "outputs": [],
   "source": [
    "df = df.groupBy(\"country_code\").pivot(\"age_group\").sum(\"percentage_2019\").orderBy(\"country_code\")"
   ]
  },
  {
   "cell_type": "code",
   "execution_count": 0,
   "metadata": {
    "application/vnd.databricks.v1+cell": {
     "cellMetadata": {
      "byteLimit": 2048000,
      "rowLimit": 10000
     },
     "inputWidgets": {},
     "nuid": "5443b0b9-841e-4fa8-aa92-4238dd23d7ff",
     "showTitle": false,
     "tableResultSettingsMap": {},
     "title": ""
    }
   },
   "outputs": [],
   "source": [
    "df_country = spark.read.csv(\"/mnt/bluetabstorage/lookup/country_lookup/country_lookup.csv\", header=True, sep=r',')"
   ]
  },
  {
   "cell_type": "code",
   "execution_count": 0,
   "metadata": {
    "application/vnd.databricks.v1+cell": {
     "cellMetadata": {
      "byteLimit": 2048000,
      "rowLimit": 10000
     },
     "inputWidgets": {},
     "nuid": "c357247b-f9aa-4e9b-9d2b-9b903940cf93",
     "showTitle": false,
     "tableResultSettingsMap": {},
     "title": ""
    }
   },
   "outputs": [
    {
     "output_type": "stream",
     "name": "stdout",
     "output_type": "stream",
     "text": [
      "root\n |-- country: string (nullable = true)\n |-- country_code_2_digit: string (nullable = true)\n |-- country_code_3_digit: string (nullable = true)\n |-- continent: string (nullable = true)\n |-- population: string (nullable = true)\n\n"
     ]
    }
   ],
   "source": [
    "df_country.printSchema()"
   ]
  },
  {
   "cell_type": "code",
   "execution_count": 0,
   "metadata": {
    "application/vnd.databricks.v1+cell": {
     "cellMetadata": {
      "byteLimit": 2048000,
      "rowLimit": 10000
     },
     "inputWidgets": {},
     "nuid": "7570f6cd-5bea-48ea-a59a-47e462c9fa99",
     "showTitle": false,
     "tableResultSettingsMap": {},
     "title": ""
    }
   },
   "outputs": [
    {
     "output_type": "display_data",
     "data": {
      "text/html": [
       "<style scoped>\n",
       "  .table-result-container {\n",
       "    max-height: 300px;\n",
       "    overflow: auto;\n",
       "  }\n",
       "  table, th, td {\n",
       "    border: 1px solid black;\n",
       "    border-collapse: collapse;\n",
       "  }\n",
       "  th, td {\n",
       "    padding: 5px;\n",
       "  }\n",
       "  th {\n",
       "    text-align: left;\n",
       "  }\n",
       "</style><div class='table-result-container'><table class='table-result'><thead style='background-color: white'><tr><th>country_code</th><th>0_14</th><th>15_24</th><th>25_49</th><th>50_64</th><th>65_79</th><th>80_MAX</th><th>country</th><th>country_code_2_digit</th><th>country_code_3_digit</th><th>continent</th><th>population</th></tr></thead><tbody><tr><td>LT</td><td>15.10</td><td>10.50</td><td>32.70</td><td>21.90</td><td>14.00</td><td>5.80</td><td>Lithuania</td><td>LT</td><td>LTU</td><td>Europe</td><td>2794184</td></tr><tr><td>AZ</td><td>22.40</td><td>14.10</td><td>39.10</td><td>17.60</td><td>5.30</td><td>1.50</td><td>Azerbaijan</td><td>AZ</td><td>AZE</td><td>Europe</td><td>10139175</td></tr><tr><td>FI</td><td>16.00</td><td>11.20</td><td>31.20</td><td>19.90</td><td>16.30</td><td>5.50</td><td>Finland</td><td>FI</td><td>FIN</td><td>Europe</td><td>5517919</td></tr><tr><td>UA</td><td>15.40</td><td>9.60</td><td>37.60</td><td>20.60</td><td>12.50</td><td>4.30</td><td>Ukraine</td><td>UA</td><td>UKR</td><td>Europe</td><td>43733759</td></tr><tr><td>RO</td><td>15.70</td><td>10.60</td><td>35.60</td><td>19.70</td><td>13.90</td><td>4.70</td><td>Romania</td><td>RO</td><td>ROU</td><td>Europe</td><td>19414458</td></tr><tr><td>NL</td><td>15.90</td><td>12.30</td><td>31.80</td><td>20.90</td><td>14.60</td><td>4.60</td><td>Netherlands</td><td>NL</td><td>NLD</td><td>Europe</td><td>17282163</td></tr><tr><td>AM</td><td>20.20</td><td>11.80</td><td>36.90</td><td>19.10</td><td>9.00</td><td>3.00</td><td>Armenia</td><td>AM</td><td>ARM</td><td>Europe</td><td>2963234</td></tr><tr><td>PL</td><td>15.40</td><td>10.30</td><td>37.00</td><td>19.70</td><td>13.30</td><td>4.40</td><td>Poland</td><td>PL</td><td>POL</td><td>Europe</td><td>37972812</td></tr><tr><td>MK</td><td>16.40</td><td>12.40</td><td>37.50</td><td>19.70</td><td>11.50</td><td>2.50</td><td>North Macedonia</td><td>MK</td><td>MKD</td><td>Europe</td><td>2077132</td></tr><tr><td>EE</td><td>16.40</td><td>9.50</td><td>34.90</td><td>19.40</td><td>14.10</td><td>5.60</td><td>Estonia</td><td>EE</td><td>EST</td><td>Europe</td><td>1324820</td></tr></tbody></table></div>"
      ]
     },
     "metadata": {
      "application/vnd.databricks.v1+output": {
       "addedWidgets": {},
       "aggData": [],
       "aggError": "",
       "aggOverflow": false,
       "aggSchema": [],
       "aggSeriesLimitReached": false,
       "aggType": "",
       "arguments": {},
       "columnCustomDisplayInfos": {},
       "data": [
        [
         "LT",
         "15.10",
         "10.50",
         "32.70",
         "21.90",
         "14.00",
         "5.80",
         "Lithuania",
         "LT",
         "LTU",
         "Europe",
         "2794184"
        ],
        [
         "AZ",
         "22.40",
         "14.10",
         "39.10",
         "17.60",
         "5.30",
         "1.50",
         "Azerbaijan",
         "AZ",
         "AZE",
         "Europe",
         "10139175"
        ],
        [
         "FI",
         "16.00",
         "11.20",
         "31.20",
         "19.90",
         "16.30",
         "5.50",
         "Finland",
         "FI",
         "FIN",
         "Europe",
         "5517919"
        ],
        [
         "UA",
         "15.40",
         "9.60",
         "37.60",
         "20.60",
         "12.50",
         "4.30",
         "Ukraine",
         "UA",
         "UKR",
         "Europe",
         "43733759"
        ],
        [
         "RO",
         "15.70",
         "10.60",
         "35.60",
         "19.70",
         "13.90",
         "4.70",
         "Romania",
         "RO",
         "ROU",
         "Europe",
         "19414458"
        ],
        [
         "NL",
         "15.90",
         "12.30",
         "31.80",
         "20.90",
         "14.60",
         "4.60",
         "Netherlands",
         "NL",
         "NLD",
         "Europe",
         "17282163"
        ],
        [
         "AM",
         "20.20",
         "11.80",
         "36.90",
         "19.10",
         "9.00",
         "3.00",
         "Armenia",
         "AM",
         "ARM",
         "Europe",
         "2963234"
        ],
        [
         "PL",
         "15.40",
         "10.30",
         "37.00",
         "19.70",
         "13.30",
         "4.40",
         "Poland",
         "PL",
         "POL",
         "Europe",
         "37972812"
        ],
        [
         "MK",
         "16.40",
         "12.40",
         "37.50",
         "19.70",
         "11.50",
         "2.50",
         "North Macedonia",
         "MK",
         "MKD",
         "Europe",
         "2077132"
        ],
        [
         "EE",
         "16.40",
         "9.50",
         "34.90",
         "19.40",
         "14.10",
         "5.60",
         "Estonia",
         "EE",
         "EST",
         "Europe",
         "1324820"
        ]
       ],
       "datasetInfos": [],
       "dbfsResultPath": null,
       "isJsonSchema": true,
       "metadata": {},
       "overflow": false,
       "plotOptions": {
        "customPlotOptions": {},
        "displayType": "table",
        "pivotAggregation": null,
        "pivotColumns": null,
        "xColumns": null,
        "yColumns": null
       },
       "removedWidgets": [],
       "schema": [
        {
         "metadata": "{}",
         "name": "country_code",
         "type": "\"string\""
        },
        {
         "metadata": "{}",
         "name": "0_14",
         "type": "\"decimal(14,2)\""
        },
        {
         "metadata": "{}",
         "name": "15_24",
         "type": "\"decimal(14,2)\""
        },
        {
         "metadata": "{}",
         "name": "25_49",
         "type": "\"decimal(14,2)\""
        },
        {
         "metadata": "{}",
         "name": "50_64",
         "type": "\"decimal(14,2)\""
        },
        {
         "metadata": "{}",
         "name": "65_79",
         "type": "\"decimal(14,2)\""
        },
        {
         "metadata": "{}",
         "name": "80_MAX",
         "type": "\"decimal(14,2)\""
        },
        {
         "metadata": "{}",
         "name": "country",
         "type": "\"string\""
        },
        {
         "metadata": "{}",
         "name": "country_code_2_digit",
         "type": "\"string\""
        },
        {
         "metadata": "{}",
         "name": "country_code_3_digit",
         "type": "\"string\""
        },
        {
         "metadata": "{}",
         "name": "continent",
         "type": "\"string\""
        },
        {
         "metadata": "{}",
         "name": "population",
         "type": "\"string\""
        }
       ],
       "type": "table"
      }
     },
     "output_type": "display_data"
    }
   ],
   "source": [
    "df = df.join(df_country, df.country_code == df_country.country_code_2_digit)\n",
    "display(df.limit(10))"
   ]
  },
  {
   "cell_type": "code",
   "execution_count": 0,
   "metadata": {
    "application/vnd.databricks.v1+cell": {
     "cellMetadata": {
      "byteLimit": 2048000,
      "rowLimit": 10000
     },
     "inputWidgets": {},
     "nuid": "5e6424e0-29a8-4f4e-ad16-b42f2d66e904",
     "showTitle": false,
     "tableResultSettingsMap": {},
     "title": ""
    }
   },
   "outputs": [
    {
     "output_type": "display_data",
     "data": {
      "text/html": [
       "<style scoped>\n",
       "  .table-result-container {\n",
       "    max-height: 300px;\n",
       "    overflow: auto;\n",
       "  }\n",
       "  table, th, td {\n",
       "    border: 1px solid black;\n",
       "    border-collapse: collapse;\n",
       "  }\n",
       "  th, td {\n",
       "    padding: 5px;\n",
       "  }\n",
       "  th {\n",
       "    text-align: left;\n",
       "  }\n",
       "</style><div class='table-result-container'><table class='table-result'><thead style='background-color: white'><tr><th>country</th><th>country_code_2_digit</th><th>country_code_3_digit</th><th>population</th><th>0_14</th><th>15_24</th><th>25_49</th><th>50_64</th><th>65_79</th><th>80_MAX</th></tr></thead><tbody><tr><td>Lithuania</td><td>LT</td><td>LTU</td><td>2794184</td><td>15.10</td><td>10.50</td><td>32.70</td><td>21.90</td><td>14.00</td><td>5.80</td></tr><tr><td>Azerbaijan</td><td>AZ</td><td>AZE</td><td>10139175</td><td>22.40</td><td>14.10</td><td>39.10</td><td>17.60</td><td>5.30</td><td>1.50</td></tr><tr><td>Finland</td><td>FI</td><td>FIN</td><td>5517919</td><td>16.00</td><td>11.20</td><td>31.20</td><td>19.90</td><td>16.30</td><td>5.50</td></tr><tr><td>Ukraine</td><td>UA</td><td>UKR</td><td>43733759</td><td>15.40</td><td>9.60</td><td>37.60</td><td>20.60</td><td>12.50</td><td>4.30</td></tr><tr><td>Romania</td><td>RO</td><td>ROU</td><td>19414458</td><td>15.70</td><td>10.60</td><td>35.60</td><td>19.70</td><td>13.90</td><td>4.70</td></tr><tr><td>Netherlands</td><td>NL</td><td>NLD</td><td>17282163</td><td>15.90</td><td>12.30</td><td>31.80</td><td>20.90</td><td>14.60</td><td>4.60</td></tr><tr><td>Armenia</td><td>AM</td><td>ARM</td><td>2963234</td><td>20.20</td><td>11.80</td><td>36.90</td><td>19.10</td><td>9.00</td><td>3.00</td></tr><tr><td>Poland</td><td>PL</td><td>POL</td><td>37972812</td><td>15.40</td><td>10.30</td><td>37.00</td><td>19.70</td><td>13.30</td><td>4.40</td></tr><tr><td>North Macedonia</td><td>MK</td><td>MKD</td><td>2077132</td><td>16.40</td><td>12.40</td><td>37.50</td><td>19.70</td><td>11.50</td><td>2.50</td></tr><tr><td>Estonia</td><td>EE</td><td>EST</td><td>1324820</td><td>16.40</td><td>9.50</td><td>34.90</td><td>19.40</td><td>14.10</td><td>5.60</td></tr></tbody></table></div>"
      ]
     },
     "metadata": {
      "application/vnd.databricks.v1+output": {
       "addedWidgets": {},
       "aggData": [],
       "aggError": "",
       "aggOverflow": false,
       "aggSchema": [],
       "aggSeriesLimitReached": false,
       "aggType": "",
       "arguments": {},
       "columnCustomDisplayInfos": {},
       "data": [
        [
         "Lithuania",
         "LT",
         "LTU",
         "2794184",
         "15.10",
         "10.50",
         "32.70",
         "21.90",
         "14.00",
         "5.80"
        ],
        [
         "Azerbaijan",
         "AZ",
         "AZE",
         "10139175",
         "22.40",
         "14.10",
         "39.10",
         "17.60",
         "5.30",
         "1.50"
        ],
        [
         "Finland",
         "FI",
         "FIN",
         "5517919",
         "16.00",
         "11.20",
         "31.20",
         "19.90",
         "16.30",
         "5.50"
        ],
        [
         "Ukraine",
         "UA",
         "UKR",
         "43733759",
         "15.40",
         "9.60",
         "37.60",
         "20.60",
         "12.50",
         "4.30"
        ],
        [
         "Romania",
         "RO",
         "ROU",
         "19414458",
         "15.70",
         "10.60",
         "35.60",
         "19.70",
         "13.90",
         "4.70"
        ],
        [
         "Netherlands",
         "NL",
         "NLD",
         "17282163",
         "15.90",
         "12.30",
         "31.80",
         "20.90",
         "14.60",
         "4.60"
        ],
        [
         "Armenia",
         "AM",
         "ARM",
         "2963234",
         "20.20",
         "11.80",
         "36.90",
         "19.10",
         "9.00",
         "3.00"
        ],
        [
         "Poland",
         "PL",
         "POL",
         "37972812",
         "15.40",
         "10.30",
         "37.00",
         "19.70",
         "13.30",
         "4.40"
        ],
        [
         "North Macedonia",
         "MK",
         "MKD",
         "2077132",
         "16.40",
         "12.40",
         "37.50",
         "19.70",
         "11.50",
         "2.50"
        ],
        [
         "Estonia",
         "EE",
         "EST",
         "1324820",
         "16.40",
         "9.50",
         "34.90",
         "19.40",
         "14.10",
         "5.60"
        ]
       ],
       "datasetInfos": [],
       "dbfsResultPath": null,
       "isJsonSchema": true,
       "metadata": {},
       "overflow": false,
       "plotOptions": {
        "customPlotOptions": {},
        "displayType": "table",
        "pivotAggregation": null,
        "pivotColumns": null,
        "xColumns": null,
        "yColumns": null
       },
       "removedWidgets": [],
       "schema": [
        {
         "metadata": "{}",
         "name": "country",
         "type": "\"string\""
        },
        {
         "metadata": "{}",
         "name": "country_code_2_digit",
         "type": "\"string\""
        },
        {
         "metadata": "{}",
         "name": "country_code_3_digit",
         "type": "\"string\""
        },
        {
         "metadata": "{}",
         "name": "population",
         "type": "\"string\""
        },
        {
         "metadata": "{}",
         "name": "0_14",
         "type": "\"decimal(14,2)\""
        },
        {
         "metadata": "{}",
         "name": "15_24",
         "type": "\"decimal(14,2)\""
        },
        {
         "metadata": "{}",
         "name": "25_49",
         "type": "\"decimal(14,2)\""
        },
        {
         "metadata": "{}",
         "name": "50_64",
         "type": "\"decimal(14,2)\""
        },
        {
         "metadata": "{}",
         "name": "65_79",
         "type": "\"decimal(14,2)\""
        },
        {
         "metadata": "{}",
         "name": "80_MAX",
         "type": "\"decimal(14,2)\""
        }
       ],
       "type": "table"
      }
     },
     "output_type": "display_data"
    }
   ],
   "source": [
    "df = df \\\n",
    ".select(\n",
    "    col(\"country\"),\n",
    "    col(\"country_code_2_digit\"),\n",
    "    col(\"country_code_3_digit\"),\n",
    "    col(\"population\"),\n",
    "    col(\"0_14\"),\n",
    "    col(\"15_24\"),\n",
    "    col(\"25_49\"),\n",
    "    col(\"50_64\"),\n",
    "    col(\"65_79\"),\n",
    "    col(\"80_MAX\")\n",
    ")\n",
    "display(df.limit(10))"
   ]
  },
  {
   "cell_type": "code",
   "execution_count": 0,
   "metadata": {
    "application/vnd.databricks.v1+cell": {
     "cellMetadata": {
      "byteLimit": 2048000,
      "rowLimit": 10000
     },
     "inputWidgets": {},
     "nuid": "e1b57c5e-fef7-4135-afbf-e3c737434973",
     "showTitle": false,
     "tableResultSettingsMap": {},
     "title": ""
    }
   },
   "outputs": [],
   "source": [
    "df.write.format(\"csv\").option(\"delimiter\", \",\").option(\"header\", \"true\").mode(\"overwrite\").save(\"/mnt/bluetabstorage/processed/population\")"
   ]
  },
  {
   "cell_type": "code",
   "execution_count": 0,
   "metadata": {
    "application/vnd.databricks.v1+cell": {
     "cellMetadata": {},
     "inputWidgets": {},
     "nuid": "4eb2b729-dcb6-4bb8-93f1-9933b4e07b88",
     "showTitle": false,
     "tableResultSettingsMap": {},
     "title": ""
    }
   },
   "outputs": [],
   "source": []
  }
 ],
 "metadata": {
  "application/vnd.databricks.v1+notebook": {
   "computePreferences": null,
   "dashboards": [],
   "environmentMetadata": {
    "base_environment": "",
    "environment_version": "2"
   },
   "language": "python",
   "notebookMetadata": {
    "pythonIndentUnit": 4
   },
   "notebookName": "1_transform_population_data",
   "widgets": {}
  },
  "language_info": {
   "name": "python"
  }
 },
 "nbformat": 4,
 "nbformat_minor": 0
}